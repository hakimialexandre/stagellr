{
 "cells": [
  {
   "cell_type": "code",
   "execution_count": 1,
   "metadata": {},
   "outputs": [],
   "source": [
    "import os\n",
    "import pandas as pd\n",
    "import numpy as np\n",
    "from matplotlib import pyplot\n",
    "import seaborn as sns\n",
    "from sklearn import metrics"
   ]
  },
  {
   "cell_type": "code",
   "execution_count": 2,
   "metadata": {},
   "outputs": [
    {
     "ename": "AttributeError",
     "evalue": "module 'os' has no attribute 'makedir'",
     "output_type": "error",
     "traceback": [
      "\u001b[1;31m---------------------------------------------------------------------------\u001b[0m",
      "\u001b[1;31mAttributeError\u001b[0m                            Traceback (most recent call last)",
      "\u001b[1;32m<ipython-input-2-ac524a99eb98>\u001b[0m in \u001b[0;36m<module>\u001b[1;34m()\u001b[0m\n\u001b[0;32m      1\u001b[0m \u001b[0mworkdir\u001b[0m\u001b[1;33m=\u001b[0m\u001b[0mos\u001b[0m\u001b[1;33m.\u001b[0m\u001b[0mgetcwd\u001b[0m\u001b[1;33m(\u001b[0m\u001b[1;33m)\u001b[0m\u001b[1;33m\u001b[0m\u001b[0m\n\u001b[1;32m----> 2\u001b[1;33m \u001b[0mos\u001b[0m\u001b[1;33m.\u001b[0m\u001b[0mmakedir\u001b[0m\u001b[1;33m(\u001b[0m\u001b[1;34m'data'\u001b[0m\u001b[1;33m)\u001b[0m\u001b[1;33m\u001b[0m\u001b[0m\n\u001b[0m\u001b[0;32m      3\u001b[0m \u001b[0melec_dir\u001b[0m\u001b[1;33m=\u001b[0m\u001b[0mworkdir\u001b[0m\u001b[1;33m+\u001b[0m\u001b[1;34m'/v_4_2019-04-03/electrons'\u001b[0m\u001b[1;33m\u001b[0m\u001b[0m\n\u001b[0;32m      4\u001b[0m \u001b[0mpion_dir\u001b[0m\u001b[1;33m=\u001b[0m\u001b[0mworkdir\u001b[0m\u001b[1;33m+\u001b[0m\u001b[1;34m'/v_4_2019-04-03/pions'\u001b[0m\u001b[1;33m\u001b[0m\u001b[0m\n",
      "\u001b[1;31mAttributeError\u001b[0m: module 'os' has no attribute 'makedir'"
     ]
    }
   ],
   "source": [
    "workdir=os.getcwd()\n",
    "os.makedir('data')\n",
    "elec_dir=workdir+'/v_4_2019-04-03/electrons'\n",
    "pion_dir=workdir+'/v_4_2019-04-03/pions'"
   ]
  },
  {
   "cell_type": "code",
   "execution_count": null,
   "metadata": {},
   "outputs": [],
   "source": [
    "algo_name=['T23', 'S', 'S0', 'S10', 'S20', 'T', 'T0', 'T10', 'T20']\n",
    "list_elec=[]\n",
    "list_pion=[]\n",
    "algo_elec={}\n",
    "algo_pion={}"
   ]
  },
  {
   "cell_type": "code",
   "execution_count": null,
   "metadata": {},
   "outputs": [],
   "source": [
    "%time\n",
    "for item in os.listdir(elec_dir):\n",
    "    if 'elec_' in item:\n",
    "        list_elec.append(item)\n",
    "for item in os.listdir(pion_dir):\n",
    "    if 'pion_' in item:\n",
    "        list_pion.append(item)"
   ]
  },
  {
   "cell_type": "code",
   "execution_count": null,
   "metadata": {},
   "outputs": [],
   "source": [
    "%time\n",
    "for i,item in enumerate(list_elec):\n",
    "    if i ==0:\n",
    "        gen_elec=pd.read_csv(elec_dir+'/'+item+'/gen_clean.csv')\n",
    "        for j,name in enumerate(algo_name):\n",
    "            algo_elec[j]=pd.read_csv(elec_dir+'/'+item+'/'+name+'.csv')\n",
    "    else:\n",
    "        gen_elec=pd.concat([gen_elec,pd.read_csv(elec_dir+'/'+item+'/gen_clean.csv')])\n",
    "        for j,name in enumerate(algo_name):\n",
    "            algo_elec[j]=pd.concat([algo_elec[j],pd.read_csv(elec_dir+'/'+item+'/'+name+'.csv')])\n",
    "            \n",
    "for i,item in enumerate(list_pion):\n",
    "    if i ==0:\n",
    "        gen_pionpd.read_csv(pion_dir+'/'+item+'/gen_clean.csv')\n",
    "        for j,name in enumerate(algo_name):\n",
    "            algo_pion[j]=pd.read_csv(elec_dir+'/'+item+'/'+name+'.csv')\n",
    "    else:\n",
    "        gen_elec=pd.concat([gen_elec,pd.read_csv(elec_dir+'/'+item+'/gen_clean.csv')])\n",
    "        for j,name in enumerate(algo_name):\n",
    "            algo_pion[j]=pd.concat([algo_elec[j],pd.read_csv(elec_dir+'/'+item+'/'+name+'.csv')])\n",
    "            \n",
    "for i in range(len(algo_name)):\n",
    "    algo[i]=pd.concat([algo_elec[i],algo_pion[i]], sort=False)\n",
    "    algo[i].to_csv(workdir+'/data/{}.csv'.format(algo_name[i]))"
   ]
  }
 ],
 "metadata": {
  "kernelspec": {
   "display_name": "Python 3",
   "language": "python",
   "name": "python3"
  },
  "language_info": {
   "codemirror_mode": {
    "name": "ipython",
    "version": 3
   },
   "file_extension": ".py",
   "mimetype": "text/x-python",
   "name": "python",
   "nbconvert_exporter": "python",
   "pygments_lexer": "ipython3",
   "version": "3.7.0"
  }
 },
 "nbformat": 4,
 "nbformat_minor": 2
}

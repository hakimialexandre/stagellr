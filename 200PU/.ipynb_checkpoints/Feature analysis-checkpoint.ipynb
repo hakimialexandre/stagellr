{
 "cells": [
  {
   "cell_type": "code",
   "execution_count": null,
   "metadata": {},
   "outputs": [],
   "source": [
    "import os\n",
    "import pandas as pd\n",
    "import numpy as np\n",
    "from matplotlib import pyplot as plt\n",
    "import seaborn as sns\n",
    "from sklearn import metrics\n",
    "import xgboost as xgb"
   ]
  },
  {
   "cell_type": "code",
   "execution_count": null,
   "metadata": {},
   "outputs": [],
   "source": [
    "%%time\n",
    "workdir=os.getcwd()\n",
    "os.makedirs('fig', exist_ok=True)\n",
    "fig_dir=workdir+'/fig'\n",
    "algo_name=['T23', 'S', 'S0', 'S10', 'S20', 'T', 'T0', 'T10', 'T20']\n",
    "algo={}\n",
    "for i in range(len(algo_name)):\n",
    "    algo[i]=pd.read_csv(workdir+'/data/{}.csv'.format(algo_name[i]))"
   ]
  },
  {
   "cell_type": "code",
   "execution_count": null,
   "metadata": {},
   "outputs": [],
   "source": [
    "%%time\n",
    "#cut\n",
    "ptcut=10\n",
    "etamin=1.6\n",
    "etamax=2.9\n",
    "algo_cut={}\n",
    "for i in algo:\n",
    "    sel=algo[i]['genpart_pt']>ptcut\n",
    "    algo_cut[i]=algo[i][sel]\n",
    "    sel=np.abs(algo_cut[i]['genpart_exeta'])>etamin\n",
    "    algo_cut[i]=algo_cut[i][sel]\n",
    "    sel=np.abs(algo_cut[i]['genpart_exeta'])<etamax\n",
    "    algo_cut[i]=algo_cut[i][sel]\n",
    "    algo_cut[i].dropna(inplace=True)\n",
    "    algo_cut[i]['genpart_pid'].replace([-11,11],0, inplace=True)\n",
    "    algo_cut[i]['genpart_pid'].replace([-211,211],1, inplace=True)"
   ]
  },
  {
   "cell_type": "code",
   "execution_count": null,
   "metadata": {},
   "outputs": [],
   "source": [
    "from sklearn.model_selection import train_test_split\n",
    "columns=['cl3d_eta','cl3d_showerlength',\n",
    "       'cl3d_coreshowerlength', 'cl3d_firstlayer', 'cl3d_maxlayer', 'cl3d_szz',\n",
    "       'cl3d_seetot', 'cl3d_spptot', 'cl3d_srrtot', 'cl3d_srrmean','cl3d_pt']\n",
    "\n",
    "\n",
    "X_train={}\n",
    "X_test={}\n",
    "y_train={}\n",
    "y_test={}\n",
    "\n",
    "for i in algo:\n",
    "    X_train[i], X_test[i], y_train[i], y_test[i] = train_test_split(algo_cut[i][columns], algo_cut[i]['genpart_pid'], test_size=0.2)"
   ]
  },
  {
   "cell_type": "code",
   "execution_count": null,
   "metadata": {},
   "outputs": [],
   "source": [
    "X_pt={}\n",
    "for i in algo:\n",
    "    X_pt[i]=X_test[i]['cl3d_pt']\n",
    "    X_test[i]=X_test[i].drop(columns='cl3d_pt')\n",
    "    X_train[i]=X_train[i].drop(columns='cl3d_pt')\n",
    "    \n",
    "columns.remove('cl3d_pt')\n"
   ]
  },
  {
   "cell_type": "code",
   "execution_count": null,
   "metadata": {},
   "outputs": [],
   "source": [
    "train={}\n",
    "test={}\n",
    "\n",
    "for i in algo:\n",
    "    train[i] = xgb.DMatrix(data=X_train[i],label=y_train[i], feature_names=columns)\n",
    "    test[i] = xgb.DMatrix(data=X_test[i],label=y_test[i],feature_names=columns)"
   ]
  },
  {
   "cell_type": "code",
   "execution_count": null,
   "metadata": {},
   "outputs": [],
   "source": [
    "def plot_discr(feature):\n",
    "    nbins=20\n",
    "    plt.hist(X_train[i][feature][y_train[i] == 0],\n",
    "         histtype='step',color='midnightblue',label='electrons', bins=nbins);\n",
    "    plt.hist(X_train[i][feature][y_train[i] == 1],\n",
    "         histtype='step',color='firebrick',label='pions', bins=nbins);\n",
    "    plt.xlabel(feature,fontsize=12);\n",
    "    plt.ylabel('Events',fontsize=12);\n",
    "    plt.legend(frameon=False);"
   ]
  },
  {
   "cell_type": "code",
   "execution_count": null,
   "metadata": {},
   "outputs": [],
   "source": [
    "%%time\n",
    "os.makedirs('fig/feature_repart', exist_ok=True)\n",
    "for i in algo:\n",
    "    plt.figure(figsize=(15,30))\n",
    "    j=0\n",
    "    for feature in columns:\n",
    "        j+=1\n",
    "        plt.subplot(4,3,j)\n",
    "        plot_discr(feature)\n",
    "        plt.title(algo_name[i])\n",
    "    plt.savefig(fig_dir+'/feature_repart/{}.png'.format(algo_name[i]))"
   ]
  },
  {
   "cell_type": "code",
   "execution_count": null,
   "metadata": {},
   "outputs": [],
   "source": [
    "%%time\n",
    "#corr matrices for signal/background\n",
    "os.makedirs(name='fig/corr_matrix', exist_ok=True)\n",
    "corrsig={}\n",
    "corrbac={}\n",
    "for i in algo:\n",
    "    sel1=algo_cut[i]['genpart_pid']==0\n",
    "    sel2=algo_cut[i]['genpart_pid']==1\n",
    "    corrsig[i]=algo_cut[i][sel1][columns].corr()\n",
    "    corrbac[i]=algo_cut[i][sel2][columns].corr()\n",
    "    fig, ax = plt.subplots(ncols=2,figsize=(20, 10), sharey=True, sharex=True)\n",
    "    fig.suptitle(algo_name[i])\n",
    "    \n",
    "    axs=ax[0]\n",
    "    cax=axs.matshow(corrsig[i], cmap='PiYG', vmin=-1, vmax=1)\n",
    "    plt.xticks(range(len(corrsig[i].columns)), corrsig[i].columns);\n",
    "    plt.yticks(range(len(corrsig[i].columns)), corrsig[i].columns);\n",
    "    axs.set_title('signal', pad=70)\n",
    "    \n",
    "    plt.colorbar(cax,ax=axs)\n",
    "    for item in (axs.get_xticklabels()):\n",
    "        item.set_rotation(90)\n",
    "    \n",
    "    axs=ax[1]\n",
    "    cax=axs.matshow(corrbac[i], cmap='PiYG', vmin=-1,vmax=1)\n",
    "    plt.xticks(range(len(corrbac[i].columns)), corrbac[i].columns);\n",
    "    plt.yticks(range(len(corrbac[i].columns)), corrbac[i].columns);\n",
    "    axs.set_title('background', pad=70)\n",
    "    \n",
    "    plt.colorbar(cax,ax=axs)\n",
    "    \n",
    "    for item in (axs.get_xticklabels()):\n",
    "        item.set_rotation(90)\n",
    "    \n",
    "    plt.savefig(fig_dir+'/corr_matrix/correlation_matrix_%s.png' %algo_name[i])"
   ]
  },
  {
   "cell_type": "code",
   "execution_count": null,
   "metadata": {},
   "outputs": [],
   "source": [
    "%%time\n",
    "for i in algo:        \n",
    "    algo_cut[i]['algo']=algo_name[i]\n",
    "    algo_cut[i]['electron']=(algo_cut[i]['genpart_pid']==0)\n",
    "    if i==0:\n",
    "        algo_all=algo_cut[i]\n",
    "    else:\n",
    "        algo_all=pd.concat([algo_all,algo_cut[i]])\n"
   ]
  },
  {
   "cell_type": "code",
   "execution_count": null,
   "metadata": {},
   "outputs": [],
   "source": [
    "%%time\n",
    "#violin plot for all algos\n",
    "\n",
    "j=0\n",
    "plt.figure(figsize=(25,60))\n",
    "\n",
    "for  feature in columns:\n",
    "    j+=1\n",
    "    plt.subplot(10,1,j)\n",
    "    ax=sns.violinplot(y=feature, x='algo',hue='electron', data=algo_all, split=True)\n",
    "    if j==4:\n",
    "        ax.set_ylim(top=18)\n",
    "    if j==5:\n",
    "        ax.set_ylim(8,35)\n",
    "    if j==6:\n",
    "        ax.set_ylim(top=30)   \n",
    "    \n",
    "plt.suptitle('Violin plot')\n",
    "plt.savefig(fig_dir+'/violinplotall.png')"
   ]
  },
  {
   "cell_type": "code",
   "execution_count": null,
   "metadata": {},
   "outputs": [],
   "source": []
  },
  {
   "cell_type": "code",
   "execution_count": null,
   "metadata": {},
   "outputs": [],
   "source": []
  },
  {
   "cell_type": "code",
   "execution_count": null,
   "metadata": {},
   "outputs": [],
   "source": []
  },
  {
   "cell_type": "code",
   "execution_count": null,
   "metadata": {},
   "outputs": [],
   "source": []
  },
  {
   "cell_type": "code",
   "execution_count": null,
   "metadata": {},
   "outputs": [],
   "source": []
  },
  {
   "cell_type": "code",
   "execution_count": null,
   "metadata": {},
   "outputs": [],
   "source": []
  },
  {
   "cell_type": "code",
   "execution_count": null,
   "metadata": {},
   "outputs": [],
   "source": []
  }
 ],
 "metadata": {
  "kernelspec": {
   "display_name": "Python 3",
   "language": "python",
   "name": "python3"
  },
  "language_info": {
   "codemirror_mode": {
    "name": "ipython",
    "version": 3
   },
   "file_extension": ".py",
   "mimetype": "text/x-python",
   "name": "python",
   "nbconvert_exporter": "python",
   "pygments_lexer": "ipython3",
   "version": "3.7.0"
  }
 },
 "nbformat": 4,
 "nbformat_minor": 2
}

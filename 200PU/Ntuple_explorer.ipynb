{
 "cells": [
  {
   "cell_type": "code",
   "execution_count": 2,
   "metadata": {},
   "outputs": [],
   "source": [
    "import numpy as np\n",
    "import pandas as pd\n",
    "from matplotlib import pyplot as plt\n",
    "import os\n",
    "import uproot\n",
    "from datetime import date\n",
    "import optparse"
   ]
  },
  {
   "cell_type": "code",
   "execution_count": 3,
   "metadata": {},
   "outputs": [
    {
     "data": {
      "text/plain": [
       "['ntuple_1.root',\n",
       " 'ntuple_10.root',\n",
       " 'ntuple_11.root',\n",
       " 'ntuple_12.root',\n",
       " 'ntuple_13.root',\n",
       " 'ntuple_14.root',\n",
       " 'ntuple_15.root',\n",
       " 'ntuple_16.root',\n",
       " 'ntuple_17.root',\n",
       " 'ntuple_18.root',\n",
       " 'ntuple_19.root',\n",
       " 'ntuple_2.root',\n",
       " 'ntuple_20.root',\n",
       " 'ntuple_21.root',\n",
       " 'ntuple_22.root',\n",
       " 'ntuple_23.root',\n",
       " 'ntuple_24.root',\n",
       " 'ntuple_25.root',\n",
       " 'ntuple_26.root',\n",
       " 'ntuple_27.root',\n",
       " 'ntuple_28.root',\n",
       " 'ntuple_29.root',\n",
       " 'ntuple_3.root',\n",
       " 'ntuple_30.root',\n",
       " 'ntuple_31.root',\n",
       " 'ntuple_32.root',\n",
       " 'ntuple_33.root',\n",
       " 'ntuple_34.root',\n",
       " 'ntuple_35.root',\n",
       " 'ntuple_36.root',\n",
       " 'ntuple_37.root',\n",
       " 'ntuple_38.root',\n",
       " 'ntuple_39.root',\n",
       " 'ntuple_4.root',\n",
       " 'ntuple_40.root',\n",
       " 'ntuple_41.root',\n",
       " 'ntuple_42.root',\n",
       " 'ntuple_43.root',\n",
       " 'ntuple_44.root',\n",
       " 'ntuple_45.root',\n",
       " 'ntuple_46.root',\n",
       " 'ntuple_47.root',\n",
       " 'ntuple_48.root',\n",
       " 'ntuple_49.root',\n",
       " 'ntuple_5.root',\n",
       " 'ntuple_50.root',\n",
       " 'ntuple_51.root',\n",
       " 'ntuple_52.root',\n",
       " 'ntuple_53.root',\n",
       " 'ntuple_54.root',\n",
       " 'ntuple_55.root',\n",
       " 'ntuple_56.root',\n",
       " 'ntuple_57.root',\n",
       " 'ntuple_58.root',\n",
       " 'ntuple_59.root',\n",
       " 'ntuple_6.root',\n",
       " 'ntuple_60.root',\n",
       " 'ntuple_61.root',\n",
       " 'ntuple_62.root',\n",
       " 'ntuple_63.root',\n",
       " 'ntuple_64.root',\n",
       " 'ntuple_65.root',\n",
       " 'ntuple_66.root',\n",
       " 'ntuple_67.root',\n",
       " 'ntuple_68.root',\n",
       " 'ntuple_69.root',\n",
       " 'ntuple_7.root',\n",
       " 'ntuple_70.root',\n",
       " 'ntuple_71.root',\n",
       " 'ntuple_72.root',\n",
       " 'ntuple_73.root',\n",
       " 'ntuple_74.root',\n",
       " 'ntuple_75.root',\n",
       " 'ntuple_76.root',\n",
       " 'ntuple_77.root',\n",
       " 'ntuple_78.root',\n",
       " 'ntuple_8.root',\n",
       " 'ntuple_80.root',\n",
       " 'ntuple_81.root',\n",
       " 'ntuple_82.root',\n",
       " 'ntuple_83.root',\n",
       " 'ntuple_9.root']"
      ]
     },
     "execution_count": 3,
     "metadata": {},
     "output_type": "execute_result"
    }
   ],
   "source": [
    "elec_dir='/data_CMS/cms/sauvan/HGCAL/Ntuples/ForAlexandre/SingleE_FlatPt-2to100/EleGun_Pt2_100_PU200_MTDAutomn18/190417_144406'\n",
    "pion_dir='/data_CMS/cms/sauvan/HGCAL/Ntuples/ForAlexandre/SinglePion_FlatPt-2to100/PionGun_Pt2_100_PU200_MTDAutomn18/190417_144440'\n",
    "\n",
    "os.listdir(elec_dir)"
   ]
  },
  {
   "cell_type": "code",
   "execution_count": 4,
   "metadata": {},
   "outputs": [],
   "source": [
    "test=uproot.open(elec_dir+'/ntuple_1.root')"
   ]
  },
  {
   "cell_type": "code",
   "execution_count": 11,
   "metadata": {},
   "outputs": [
    {
     "data": {
      "text/plain": [
       "[b'Floatingpoint8ThresholdRef2dRef3dGenmatchGenclustersntuple;1',\n",
       " b'Floatingpoint7ThresholdDummyHistomaxth10GenmatchClustersntuple;1',\n",
       " b'Floatingpoint8SupertriggercellDummyHistomaxth0GenmatchClustersntuple;1',\n",
       " b'Floatingpoint8SupertriggercellDummyHistomaxth10GenmatchClustersntuple;1',\n",
       " b'Floatingpoint8SupertriggercellDummyHistomaxth20GenmatchClustersntuple;1',\n",
       " b'Floatingpoint8SupertriggercellDummyHistomaxdr25GenmatchClustersntuple;1',\n",
       " b'Floatingpoint8SupertriggercellDummyHistomaxdr50GenmatchClustersntuple;1',\n",
       " b'Floatingpoint8SupertriggercellDummyHistomaxdr100GenmatchClustersntuple;1',\n",
       " b'Floatingpoint8ThresholdDummyHistomaxth0GenmatchClustersntuple;1',\n",
       " b'Floatingpoint8ThresholdDummyHistomaxth10GenmatchClustersntuple;1',\n",
       " b'Floatingpoint8ThresholdDummyHistomaxth20GenmatchClustersntuple;1',\n",
       " b'Floatingpoint8ThresholdDummyHistomaxdr25GenmatchClustersntuple;1',\n",
       " b'Floatingpoint8ThresholdDummyHistomaxdr50GenmatchClustersntuple;1',\n",
       " b'Floatingpoint8ThresholdDummyHistomaxdr100GenmatchClustersntuple;1']"
      ]
     },
     "execution_count": 11,
     "metadata": {},
     "output_type": "execute_result"
    }
   ],
   "source": [
    "test.keys(recursive=False)"
   ]
  },
  {
   "cell_type": "code",
   "execution_count": null,
   "metadata": {},
   "outputs": [],
   "source": []
  }
 ],
 "metadata": {
  "kernelspec": {
   "display_name": "Python 3",
   "language": "python",
   "name": "python3"
  },
  "language_info": {
   "codemirror_mode": {
    "name": "ipython",
    "version": 3
   },
   "file_extension": ".py",
   "mimetype": "text/x-python",
   "name": "python",
   "nbconvert_exporter": "python",
   "pygments_lexer": "ipython3",
   "version": "3.7.0"
  }
 },
 "nbformat": 4,
 "nbformat_minor": 2
}

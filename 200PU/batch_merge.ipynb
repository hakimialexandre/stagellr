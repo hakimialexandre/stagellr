{
 "cells": [
  {
   "cell_type": "code",
   "execution_count": null,
   "metadata": {},
   "outputs": [],
   "source": [
    "import os\n",
    "import pandas as pd\n",
    "import numpy as np\n",
    "from matplotlib import pyplot\n",
    "import seaborn as sns\n",
    "from sklearn import metrics"
   ]
  },
  {
   "cell_type": "code",
   "execution_count": null,
   "metadata": {},
   "outputs": [],
   "source": [
    "workdir=os.getcwd()\n",
    "os.makedir('data')\n",
    "elec_dir=workdir+'/v_1_2019-04-02/electrons'\n",
    "pion_dir=workdir+'/v_1_2019-04-02/pions'"
   ]
  },
  {
   "cell_type": "code",
   "execution_count": null,
   "metadata": {},
   "outputs": [],
   "source": [
    "algo_name=['T23', 'S', 'S0', 'S10', 'S20', 'T', 'T0', 'T10', 'T20']\n",
    "list_elec=[]\n",
    "list_pion=[]\n",
    "algo_elec={}\n",
    "algo_pion={}"
   ]
  },
  {
   "cell_type": "code",
   "execution_count": null,
   "metadata": {},
   "outputs": [],
   "source": [
    "for item in os.listdir(elec_dir):\n",
    "    if 'elec_' in item:\n",
    "        list_elec.append(item)\n",
    "for item in os.listdir(pion_dir):\n",
    "    if 'pion_' in item:\n",
    "        list_pion.append(item)"
   ]
  },
  {
   "cell_type": "code",
   "execution_count": null,
   "metadata": {},
   "outputs": [],
   "source": [
    "for i,item in enumerate(list_elec):\n",
    "    if i ==0:\n",
    "        gen_elec=pd.read_csv(elec_dir+'/'+item+'/gen_clean.csv')\n",
    "        for j,name in enumerate(algo_name):\n",
    "            algo_elec[j]=pd.read_csv(elec_dir+'/'+item+'/'+name+'.csv')\n",
    "    else:\n",
    "        gen_elec=pd.concat([gen_elec,pd.read_csv(elec_dir+'/'+item+'/gen_clean.csv')])\n",
    "        for j,name in enumerate(algo_name):\n",
    "            algo_elec[j]=pd.concat([algo_elec[j],pd.read_csv(elec_dir+'/'+item+'/'+name+'.csv')])\n",
    "            \n",
    "for i,item in enumerate(list_pion):\n",
    "    if i ==0:\n",
    "        gen_pionpd.read_csv(pion_dir+'/'+item+'/gen_clean.csv')\n",
    "        for j,name in enumerate(algo_name):\n",
    "            algo_pion[j]=pd.read_csv(elec_dir+'/'+item+'/'+name+'.csv')\n",
    "    else:\n",
    "        gen_elec=pd.concat([gen_elec,pd.read_csv(elec_dir+'/'+item+'/gen_clean.csv')])\n",
    "        for j,name in enumerate(algo_name):\n",
    "            algo_pion[j]=pd.concat([algo_elec[j],pd.read_csv(elec_dir+'/'+item+'/'+name+'.csv')])\n",
    "            \n",
    "for i in range(len(algo_name)):\n",
    "    algo[i]=pd.concat([algo_elec[i],algo_pion[i]], sort=False)\n",
    "    algo[i].to_csv(workdir+'/data/{}.csv'.format(algo_name[i]))"
   ]
  }
 ],
 "metadata": {
  "kernelspec": {
   "display_name": "Python 3",
   "language": "python",
   "name": "python3"
  },
  "language_info": {
   "codemirror_mode": {
    "name": "ipython",
    "version": 3
   },
   "file_extension": ".py",
   "mimetype": "text/x-python",
   "name": "python",
   "nbconvert_exporter": "python",
   "pygments_lexer": "ipython3",
   "version": "3.7.0"
  }
 },
 "nbformat": 4,
 "nbformat_minor": 2
}

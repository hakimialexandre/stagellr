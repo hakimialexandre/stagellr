{
 "cells": [
  {
   "cell_type": "code",
   "execution_count": 1,
   "metadata": {},
   "outputs": [],
   "source": [
    "import os\n",
    "import pandas as pd\n",
    "import numpy as np\n",
    "from matplotlib import pyplot\n",
    "import seaborn as sns\n",
    "from sklearn import metrics"
   ]
  },
  {
   "cell_type": "code",
   "execution_count": 2,
   "metadata": {},
   "outputs": [],
   "source": [
    "workdir=os.getcwd()\n",
    "#os.makedirs('data')\n",
    "elec_dir=workdir+'/v_4_2019-04-03/electrons'\n",
    "pion_dir=workdir+'/v_4_2019-04-03/pions'"
   ]
  },
  {
   "cell_type": "code",
   "execution_count": 3,
   "metadata": {},
   "outputs": [],
   "source": [
    "algo_name=['T23', 'S', 'S0', 'S10', 'S20', 'T', 'T0', 'T10', 'T20']\n",
    "list_elec=[]\n",
    "list_pion=[]\n",
    "algo_elec={}\n",
    "algo_pion={}\n",
    "algo={}"
   ]
  },
  {
   "cell_type": "code",
   "execution_count": 4,
   "metadata": {},
   "outputs": [
    {
     "name": "stdout",
     "output_type": "stream",
     "text": [
      "Wall time: 986 µs\n"
     ]
    }
   ],
   "source": [
    "%%time\n",
    "for item in os.listdir(elec_dir):\n",
    "    if 'elec_' in item:\n",
    "        list_elec.append(item)\n",
    "for item in os.listdir(pion_dir):\n",
    "    if 'pions_' in item:\n",
    "        list_pion.append(item)"
   ]
  },
  {
   "cell_type": "code",
   "execution_count": 5,
   "metadata": {},
   "outputs": [
    {
     "name": "stdout",
     "output_type": "stream",
     "text": [
      "processing elec\n",
      "0\n",
      "1\n",
      "2\n",
      "3\n",
      "4\n",
      "5\n",
      "6\n",
      "7\n",
      "8\n",
      "9\n",
      "10\n",
      "11\n",
      "12\n",
      "13\n",
      "14\n",
      "15\n",
      "16\n",
      "17\n",
      "18\n",
      "19\n",
      "20\n",
      "21\n",
      "22\n",
      "23\n",
      "24\n",
      "25\n",
      "26\n",
      "27\n",
      "28\n",
      "29\n",
      "30\n",
      "31\n",
      "32\n",
      "33\n",
      "34\n",
      "35\n",
      "36\n",
      "37\n",
      "38\n",
      "39\n",
      "40\n",
      "41\n",
      "42\n",
      "43\n",
      "44\n",
      "45\n",
      "processing pions\n",
      "0\n",
      "1\n",
      "2\n",
      "3\n",
      "4\n",
      "5\n",
      "6\n",
      "7\n",
      "8\n",
      "9\n",
      "10\n",
      "11\n",
      "12\n",
      "13\n",
      "14\n",
      "15\n",
      "16\n",
      "17\n",
      "18\n",
      "19\n",
      "20\n",
      "21\n",
      "22\n",
      "23\n",
      "24\n",
      "25\n",
      "saving files\n",
      "0\n",
      "1\n",
      "2\n",
      "3\n",
      "4\n",
      "5\n",
      "6\n",
      "7\n",
      "8\n",
      "Wall time: 41min 4s\n"
     ]
    }
   ],
   "source": [
    "%%time\n",
    "print('processing elec')\n",
    "for i,item in enumerate(list_elec):\n",
    "    print(i+'/'+len(list_elec)+'\\r')\n",
    "    if i ==0:\n",
    "        gen_elec=pd.read_csv(elec_dir+'/'+item+'/gen_clean.csv')\n",
    "        for j,name in enumerate(algo_name):\n",
    "            algo_elec[j]=pd.read_csv(elec_dir+'/'+item+'/'+name+'.csv')\n",
    "    else:\n",
    "        gen_elec=pd.concat([gen_elec,pd.read_csv(elec_dir+'/'+item+'/gen_clean.csv')])\n",
    "        for j,name in enumerate(algo_name):\n",
    "            algo_elec[j]=pd.concat([algo_elec[j],pd.read_csv(elec_dir+'/'+item+'/'+name+'.csv')])\n",
    "print('processing pions')            \n",
    "for i,item in enumerate(list_pion):\n",
    "    print(i+'/'+len(listpion)+'\\r')\n",
    "    if i ==0:\n",
    "        gen_pion=pd.read_csv(pion_dir+'/'+item+'/gen_clean.csv')\n",
    "        for j,name in enumerate(algo_name):\n",
    "            algo_pion[j]=pd.read_csv(pion_dir+'/'+item+'/'+name+'.csv')\n",
    "    else:\n",
    "        gen_pion=pd.concat([gen_pion,pd.read_csv(pion_dir+'/'+item+'/gen_clean.csv')])\n",
    "        for j,name in enumerate(algo_name):\n",
    "            algo_pion[j]=pd.concat([algo_pion[j],pd.read_csv(pion_dir+'/'+item+'/'+name+'.csv')])\n",
    "print('saving files')        \n",
    "for i in range(len(algo_name)):\n",
    "    print(i+'/'+len(algo_name)+'\\r')\n",
    "    algo[i]=pd.concat([algo_elec[i],algo_pion[i]], sort=False)\n",
    "    algo[i].to_csv(workdir+'/data/{}.csv'.format(algo_name[i]))\n",
    "print('done')"
   ]
  },
  {
   "cell_type": "code",
   "execution_count": 35,
   "metadata": {},
   "outputs": [
    {
     "data": {
      "text/plain": [
       "[]"
      ]
     },
     "execution_count": 35,
     "metadata": {},
     "output_type": "execute_result"
    }
   ],
   "source": []
  },
  {
   "cell_type": "code",
   "execution_count": null,
   "metadata": {},
   "outputs": [],
   "source": []
  }
 ],
 "metadata": {
  "kernelspec": {
   "display_name": "Python 3",
   "language": "python",
   "name": "python3"
  },
  "language_info": {
   "codemirror_mode": {
    "name": "ipython",
    "version": 3
   },
   "file_extension": ".py",
   "mimetype": "text/x-python",
   "name": "python",
   "nbconvert_exporter": "python",
   "pygments_lexer": "ipython3",
   "version": "3.7.0"
  }
 },
 "nbformat": 4,
 "nbformat_minor": 2
}
